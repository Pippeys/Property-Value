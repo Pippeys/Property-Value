{
 "cells": [
  {
   "cell_type": "code",
   "execution_count": 3,
   "metadata": {
    "scrolled": false
   },
   "outputs": [
    {
     "data": {
      "text/html": [
       "<div>\n",
       "<table border=\"1\" class=\"dataframe\">\n",
       "  <thead>\n",
       "    <tr style=\"text-align: right;\">\n",
       "      <th></th>\n",
       "      <th>Property Address</th>\n",
       "      <th>Property City</th>\n",
       "      <th>Property Zip Code</th>\n",
       "      <th>Sale Date</th>\n",
       "      <th>Sale_Price</th>\n",
       "      <th>PropertyType</th>\n",
       "      <th>Cap_Rate</th>\n",
       "      <th>Bldg SF</th>\n",
       "      <th>Floor Area Ratio</th>\n",
       "      <th>Building Class</th>\n",
       "      <th>Building Condition</th>\n",
       "      <th>BuildingMaterials</th>\n",
       "      <th>Year Built</th>\n",
       "      <th>Number Of Units</th>\n",
       "      <th>Longitude</th>\n",
       "      <th>Latitude</th>\n",
       "    </tr>\n",
       "  </thead>\n",
       "  <tbody>\n",
       "    <tr>\n",
       "      <th>0</th>\n",
       "      <td>700 Lincoln Village Cir</td>\n",
       "      <td>Larkspur</td>\n",
       "      <td>94939</td>\n",
       "      <td>7/25/2007</td>\n",
       "      <td>94500000</td>\n",
       "      <td>Multi-Family</td>\n",
       "      <td>4.28</td>\n",
       "      <td>293198</td>\n",
       "      <td>0.397103</td>\n",
       "      <td>B</td>\n",
       "      <td>Other</td>\n",
       "      <td>WoodFrame</td>\n",
       "      <td>1978.0</td>\n",
       "      <td>342</td>\n",
       "      <td>-122.507256</td>\n",
       "      <td>37.947473</td>\n",
       "    </tr>\n",
       "    <tr>\n",
       "      <th>1</th>\n",
       "      <td>1 Amberstone Ln</td>\n",
       "      <td>San Ramon</td>\n",
       "      <td>94582</td>\n",
       "      <td>5/4/2007</td>\n",
       "      <td>64300000</td>\n",
       "      <td>Multi-Family</td>\n",
       "      <td>4.00</td>\n",
       "      <td>237894</td>\n",
       "      <td>0.603458</td>\n",
       "      <td>B</td>\n",
       "      <td>Other</td>\n",
       "      <td>WoodFrame</td>\n",
       "      <td>2004.0</td>\n",
       "      <td>250</td>\n",
       "      <td>-121.906034</td>\n",
       "      <td>37.765747</td>\n",
       "    </tr>\n",
       "    <tr>\n",
       "      <th>2</th>\n",
       "      <td>5004 Hartnett Ave</td>\n",
       "      <td>Richmond</td>\n",
       "      <td>94804</td>\n",
       "      <td>7/6/2007</td>\n",
       "      <td>48443500</td>\n",
       "      <td>Multi-Family</td>\n",
       "      <td>5.50</td>\n",
       "      <td>408500</td>\n",
       "      <td>0.387195</td>\n",
       "      <td>B</td>\n",
       "      <td>Good</td>\n",
       "      <td>Unknown</td>\n",
       "      <td>1968.0</td>\n",
       "      <td>378</td>\n",
       "      <td>-122.324281</td>\n",
       "      <td>37.916949</td>\n",
       "    </tr>\n",
       "    <tr>\n",
       "      <th>3</th>\n",
       "      <td>7800 El Camino Real</td>\n",
       "      <td>Colma</td>\n",
       "      <td>94014</td>\n",
       "      <td>9/20/2007</td>\n",
       "      <td>44000000</td>\n",
       "      <td>Multi-Family</td>\n",
       "      <td>4.83</td>\n",
       "      <td>221000</td>\n",
       "      <td>2.402226</td>\n",
       "      <td>A</td>\n",
       "      <td>Other</td>\n",
       "      <td>ReinforcedConcrete</td>\n",
       "      <td>2005.0</td>\n",
       "      <td>153</td>\n",
       "      <td>-122.464466</td>\n",
       "      <td>37.684798</td>\n",
       "    </tr>\n",
       "    <tr>\n",
       "      <th>4</th>\n",
       "      <td>2795 San Leandro Blvd</td>\n",
       "      <td>San Leandro</td>\n",
       "      <td>94578</td>\n",
       "      <td>8/2/2007</td>\n",
       "      <td>28458000</td>\n",
       "      <td>Multi-Family</td>\n",
       "      <td>4.50</td>\n",
       "      <td>133974</td>\n",
       "      <td>0.616358</td>\n",
       "      <td>C</td>\n",
       "      <td>Other</td>\n",
       "      <td>Masonry</td>\n",
       "      <td>1974.0</td>\n",
       "      <td>186</td>\n",
       "      <td>-122.143928</td>\n",
       "      <td>37.715303</td>\n",
       "    </tr>\n",
       "  </tbody>\n",
       "</table>\n",
       "</div>"
      ],
      "text/plain": [
       "          Property Address Property City  Property Zip Code  Sale Date  \\\n",
       "0  700 Lincoln Village Cir      Larkspur              94939  7/25/2007   \n",
       "1          1 Amberstone Ln     San Ramon              94582   5/4/2007   \n",
       "2        5004 Hartnett Ave      Richmond              94804   7/6/2007   \n",
       "3      7800 El Camino Real         Colma              94014  9/20/2007   \n",
       "4    2795 San Leandro Blvd   San Leandro              94578   8/2/2007   \n",
       "\n",
       "   Sale_Price  PropertyType  Cap_Rate  Bldg SF  Floor Area Ratio  \\\n",
       "0    94500000  Multi-Family      4.28   293198          0.397103   \n",
       "1    64300000  Multi-Family      4.00   237894          0.603458   \n",
       "2    48443500  Multi-Family      5.50   408500          0.387195   \n",
       "3    44000000  Multi-Family      4.83   221000          2.402226   \n",
       "4    28458000  Multi-Family      4.50   133974          0.616358   \n",
       "\n",
       "  Building Class Building Condition   BuildingMaterials  Year Built  \\\n",
       "0              B              Other           WoodFrame      1978.0   \n",
       "1              B              Other           WoodFrame      2004.0   \n",
       "2              B               Good             Unknown      1968.0   \n",
       "3              A              Other  ReinforcedConcrete      2005.0   \n",
       "4              C              Other             Masonry      1974.0   \n",
       "\n",
       "   Number Of Units   Longitude   Latitude  \n",
       "0              342 -122.507256  37.947473  \n",
       "1              250 -121.906034  37.765747  \n",
       "2              378 -122.324281  37.916949  \n",
       "3              153 -122.464466  37.684798  \n",
       "4              186 -122.143928  37.715303  "
      ]
     },
     "execution_count": 3,
     "metadata": {},
     "output_type": "execute_result"
    }
   ],
   "source": [
    "import sys\n",
    "import time\n",
    "import datetime as dt\n",
    "from datetime import datetime\n",
    "import urllib\n",
    "# Number manipulation\n",
    "import numpy as np\n",
    "\n",
    "\n",
    "# Structure manipulation\n",
    "import pandas as pd\n",
    "from pandas import Series, DataFrame\n",
    "from pandas.tools.plotting import scatter_matrix\n",
    "\n",
    "\n",
    "# Graphing \n",
    "import seaborn as sb\n",
    "\n",
    "import matplotlib.pyplot as plt\n",
    "from matplotlib import rcParams\n",
    "\n",
    "\n",
    "# Stats\n",
    "import scipy as sp\n",
    "from scipy import stats\n",
    "from scipy.stats.stats import pearsonr\n",
    "from scipy.stats import spearmanr\n",
    "from scipy.stats import chi2_contingency\n",
    "\n",
    "\n",
    "# Machine Learning & Preprocessing Package\n",
    "import sklearn\n",
    "import sklearn.metrics as sm\n",
    "from sklearn.metrics import accuracy_score\n",
    "from sklearn import linear_model\n",
    "from sklearn.linear_model import LinearRegression\n",
    "from sklearn.linear_model import LogisticRegression\n",
    "from sklearn.linear_model import LassoCV\n",
    "from sklearn.linear_model import LassoLarsCV\n",
    "from sklearn.linear_model import LassoLarsIC\n",
    "from sklearn.metrics import confusion_matrix, classification_report\n",
    "from sklearn import preprocessing\n",
    "from sklearn import decomposition\n",
    "from sklearn import metrics\n",
    "from sklearn import tree\n",
    "from sklearn.cluster import DBSCAN\n",
    "from sklearn.decomposition import FactorAnalysis\n",
    "from sklearn.decomposition import PCA\n",
    "from sklearn.cluster import AgglomerativeClustering\n",
    "from sklearn.preprocessing import PolynomialFeatures\n",
    "from sklearn.preprocessing import scale\n",
    "from sklearn.preprocessing import LabelEncoder\n",
    "from mpl_toolkits.mplot3d import Axes3D\n",
    "from sklearn.cross_validation import train_test_split\n",
    "\n",
    "import statsmodels.api as sm\n",
    "import statsmodels.formula.api as smf\n",
    "\n",
    "from collections import Counter\n",
    "\n",
    "import networkx as nx\n",
    "\n",
    "\n",
    "\n",
    "# Parameters for graphs\n",
    "%matplotlib inline\n",
    "rcParams['figure.figsize'] = 10,10\n",
    "sb.set_style('whitegrid')\n",
    "\n",
    "\n",
    "# Mac\n",
    "#x = pd.read_csv('/Users/magicsoccer10/Dropbox/twerk werk/Property Value/07-17.csv')\n",
    "\n",
    "# Arch\n",
    "#x = pd.read_csv('C:/Users/scott/Dropbox/twerk werk/Data/cre_values')\n",
    "\n",
    "# Work\n",
    "df1 = pd.read_csv('C:/Users/sstandring/Dropbox/twerk werk/Data/cre_values.csv')\n",
    "df1 = df1.dropna(axis = 0)\n",
    "\n",
    "df2 = pd.read_csv('C:/Users/sstandring/Dropbox/twerk werk/Data/SFprops_cap.csv')\n",
    "df2 = df2.dropna(axis = 0)\n",
    "df1.head()"
   ]
  },
  {
   "cell_type": "code",
   "execution_count": 4,
   "metadata": {
    "collapsed": true
   },
   "outputs": [],
   "source": [
    "df1 = df1.loc[df1['PropertyType'] == 'Multi-Family']\n",
    "df1 = df1.loc[df1['Sale Date'] != '2007']\n",
    "df1 = df1.loc[df1['Sale Date'] != '2008']\n",
    "df1 = df1.loc[df1['Sale Date'] != '2009']\n",
    "df1 = df1.loc[df1['Sale Date'] != '2010']\n",
    "df1 = df1.loc[df1['Sale Date'] != '2011']"
   ]
  },
  {
   "cell_type": "markdown",
   "metadata": {},
   "source": [
    "## Labeling and editing DataFrame_1"
   ]
  },
  {
   "cell_type": "code",
   "execution_count": 5,
   "metadata": {},
   "outputs": [
    {
     "data": {
      "text/plain": [
       "year      3910\n",
       "cap       3910\n",
       "units     3910\n",
       "sqft      3910\n",
       "zipper    3910\n",
       "dtype: int64"
      ]
     },
     "execution_count": 5,
     "metadata": {},
     "output_type": "execute_result"
    }
   ],
   "source": [
    "num = LabelEncoder()\n",
    "df1_x = pd.DataFrame()\n",
    "#df1_x['date'] = df1['Sale Date'].astype('str')\n",
    "df1_x['year'] = df1['Year Built'].astype('str').str[:-3]\n",
    "df1_x['cap'] = df1['Cap_Rate']\n",
    "df1_x['units'] = df1['Number Of Units']\n",
    "df1_x['sqft'] = df1['Bldg SF']\n",
    "#df1_x['city'] = df1['Property City']\n",
    "df1_x['zipper'] = df1['Property Zip Code']\n",
    "df1_x['year'] = df1_x['year'].astype(int)\n",
    "df1_x.zipper = df1_x.zipper.astype('str').str[:-1]\n",
    "df1_x.zipper = num.fit_transform(df1_x['zipper'].astype('str'))\n",
    "\n",
    "df1_y = pd.DataFrame()\n",
    "df1_y['price'] = df1['Sale_Price']\n",
    "\n",
    "\n",
    "df1_x.count()\n"
   ]
  },
  {
   "cell_type": "markdown",
   "metadata": {},
   "source": [
    "## Labeling and editing DataFrame_2"
   ]
  },
  {
   "cell_type": "code",
   "execution_count": 6,
   "metadata": {},
   "outputs": [
    {
     "data": {
      "text/plain": [
       "year      1669\n",
       "cap       1669\n",
       "units     1669\n",
       "sqft      1669\n",
       "zipper    1669\n",
       "dtype: int64"
      ]
     },
     "execution_count": 6,
     "metadata": {},
     "output_type": "execute_result"
    }
   ],
   "source": [
    "df2_x = pd.DataFrame()\n",
    "#df2_x['date'] = df2['Last Sale'].astype('str')\n",
    "df2_x['year'] = df2['Year Built'].astype('str').str[:-3]\n",
    "df2_x['cap'] = df2['Est. Sale Cap']\n",
    "df2_x['units'] =df2['Units']\n",
    "df2_x['sqft'] = df2['Square Footage']\n",
    "#df2_x['county'] = df2['Prop County']\n",
    "#df2_x['city'] = df2['Prop City']\n",
    "df2_x['zipper'] = df2['Prop Zip Code']\n",
    "df2_x['year'] = df2_x['year'].astype(int)\n",
    "df2_x.zipper = df2_x.zipper.astype('str').str[:-3]\n",
    "df1_x.zipper = num.fit_transform(df1_x['zipper'].astype('str'))\n",
    "\n",
    "df2_y = pd.DataFrame()\n",
    "df2_y['price'] = df2['Last Price']\n",
    "\n",
    "df2_x.count()"
   ]
  },
  {
   "cell_type": "code",
   "execution_count": 12,
   "metadata": {},
   "outputs": [
    {
     "data": {
      "text/plain": [
       "array([[  1.00000000e+00,   1.97000000e+02,   4.28000000e+00, ...,\n",
       "          1.69205042e+15,   1.55817438e+11,   1.43489070e+07],\n",
       "       [  1.00000000e+00,   2.00000000e+02,   4.00000000e+00, ...,\n",
       "          2.31807202e+14,   1.55906212e+10,   1.04857600e+06],\n",
       "       [  1.00000000e+00,   1.96000000e+02,   5.50000000e+00, ...,\n",
       "          2.30684198e+15,   1.35530496e+11,   7.96262400e+06],\n",
       "       ..., \n",
       "       [  1.00000000e+00,   1.96000000e+02,   8.79000000e+00, ...,\n",
       "          2.31475470e+11,   1.35762739e+09,   7.96262400e+06],\n",
       "       [  1.00000000e+00,   1.91000000e+02,   5.82000000e+00, ...,\n",
       "          2.55229381e+10,   3.88214370e+07,   5.90490000e+04],\n",
       "       [  1.00000000e+00,   1.98000000e+02,   1.03100000e+01, ...,\n",
       "          1.68184775e+11,   1.15723469e+09,   7.96262400e+06]])"
      ]
     },
     "execution_count": 12,
     "metadata": {},
     "output_type": "execute_result"
    }
   ],
   "source": [
    "poly = PolynomialFeatures(5)\n",
    "poly.fit_transform(df1_x)"
   ]
  },
  {
   "cell_type": "code",
   "execution_count": 8,
   "metadata": {},
   "outputs": [
    {
     "data": {
      "text/plain": [
       "DecisionTreeClassifier(class_weight=None, criterion='gini', max_depth=None,\n",
       "            max_features=None, max_leaf_nodes=None,\n",
       "            min_impurity_split=1e-07, min_samples_leaf=1,\n",
       "            min_samples_split=2, min_weight_fraction_leaf=0.0,\n",
       "            presort=False, random_state=None, splitter='best')"
      ]
     },
     "execution_count": 8,
     "metadata": {},
     "output_type": "execute_result"
    }
   ],
   "source": [
    "clf = tree.DecisionTreeClassifier()\n",
    "clf.fit(df1_x, df1_y)"
   ]
  },
  {
   "cell_type": "code",
   "execution_count": 9,
   "metadata": {},
   "outputs": [
    {
     "name": "stdout",
     "output_type": "stream",
     "text": [
      "[  1750000   1900000   1640000 ..., 110000000  47000000 110000000]\n",
      "0.0209706411025\n"
     ]
    }
   ],
   "source": [
    "pred = clf.predict(df2_x)\n",
    "print(pred)\n",
    "print(accuracy_score(pred, df2_y))"
   ]
  },
  {
   "cell_type": "code",
   "execution_count": 10,
   "metadata": {
    "scrolled": false
   },
   "outputs": [
    {
     "data": {
      "text/plain": [
       "<matplotlib.axes._axes.Axes at 0xc4527b8>"
      ]
     },
     "execution_count": 10,
     "metadata": {},
     "output_type": "execute_result"
    },
    {
     "data": {
      "image/png": "[encoded data removed]",
      "text/plain": [
       "<matplotlib.figure.Figure at 0xc4526d8>"
      ]
     },
     "metadata": {},
     "output_type": "display_data"
    }
   ],
   "source": [
    "fig = plt.figure()\n",
    "ax = fig.add_axes([.1, .1, 1,1])\n",
    "sb.regplot(pred,df2_y.price,scatter=True)"
   ]
  }
 ],
 "metadata": {
  "kernelspec": {
   "display_name": "Python 3",
   "language": "python",
   "name": "python3"
  },
  "language_info": {
   "codemirror_mode": {
    "name": "ipython",
    "version": 3
   },
   "file_extension": ".py",
   "mimetype": "text/x-python",
   "name": "python",
   "nbconvert_exporter": "python",
   "pygments_lexer": "ipython3",
   "version": "3.6.0"
  }
 },
 "nbformat": 4,
 "nbformat_minor": 2
}
